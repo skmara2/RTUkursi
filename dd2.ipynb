{
 "cells": [
  {
   "cell_type": "code",
   "execution_count": 21,
   "metadata": {
    "scrolled": true
   },
   "outputs": [
    {
     "data": {
      "text/html": [
       "<div>\n",
       "<style scoped>\n",
       "    .dataframe tbody tr th:only-of-type {\n",
       "        vertical-align: middle;\n",
       "    }\n",
       "\n",
       "    .dataframe tbody tr th {\n",
       "        vertical-align: top;\n",
       "    }\n",
       "\n",
       "    .dataframe thead th {\n",
       "        text-align: right;\n",
       "    }\n",
       "</style>\n",
       "<table border=\"1\" class=\"dataframe\">\n",
       "  <thead>\n",
       "    <tr style=\"text-align: right;\">\n",
       "      <th></th>\n",
       "      <th>Valsts</th>\n",
       "      <th>janvāris</th>\n",
       "      <th>februāris</th>\n",
       "      <th>marts</th>\n",
       "      <th>aprīlis</th>\n",
       "      <th>maijs</th>\n",
       "      <th>jūnijs</th>\n",
       "      <th>jūlijs</th>\n",
       "      <th>augusts</th>\n",
       "      <th>septembris</th>\n",
       "      <th>oktobris</th>\n",
       "      <th>novembris</th>\n",
       "      <th>decembris</th>\n",
       "      <th>KOPĀ</th>\n",
       "      <th>gads</th>\n",
       "    </tr>\n",
       "  </thead>\n",
       "  <tbody>\n",
       "    <tr>\n",
       "      <th>0</th>\n",
       "      <td>LV Vidzeme</td>\n",
       "      <td>112.0</td>\n",
       "      <td>82.0</td>\n",
       "      <td>493.0</td>\n",
       "      <td>388.0</td>\n",
       "      <td>1012.0</td>\n",
       "      <td>725.0</td>\n",
       "      <td>1062.0</td>\n",
       "      <td>1214.0</td>\n",
       "      <td>1275.0</td>\n",
       "      <td>1192.0</td>\n",
       "      <td>393.0</td>\n",
       "      <td>118.0</td>\n",
       "      <td>8066</td>\n",
       "      <td>2014</td>\n",
       "    </tr>\n",
       "    <tr>\n",
       "      <th>1</th>\n",
       "      <td>LV Latgale</td>\n",
       "      <td>0.0</td>\n",
       "      <td>6.0</td>\n",
       "      <td>27.0</td>\n",
       "      <td>49.0</td>\n",
       "      <td>275.0</td>\n",
       "      <td>79.0</td>\n",
       "      <td>97.0</td>\n",
       "      <td>230.0</td>\n",
       "      <td>244.0</td>\n",
       "      <td>385.0</td>\n",
       "      <td>21.0</td>\n",
       "      <td>3.0</td>\n",
       "      <td>1416</td>\n",
       "      <td>2014</td>\n",
       "    </tr>\n",
       "    <tr>\n",
       "      <th>2</th>\n",
       "      <td>LV Zemgale</td>\n",
       "      <td>45.0</td>\n",
       "      <td>4.0</td>\n",
       "      <td>10.0</td>\n",
       "      <td>43.0</td>\n",
       "      <td>257.0</td>\n",
       "      <td>155.0</td>\n",
       "      <td>207.0</td>\n",
       "      <td>166.0</td>\n",
       "      <td>148.0</td>\n",
       "      <td>305.0</td>\n",
       "      <td>43.0</td>\n",
       "      <td>6.0</td>\n",
       "      <td>1389</td>\n",
       "      <td>2014</td>\n",
       "    </tr>\n",
       "    <tr>\n",
       "      <th>3</th>\n",
       "      <td>LV Kurzeme</td>\n",
       "      <td>6.0</td>\n",
       "      <td>0.0</td>\n",
       "      <td>6.0</td>\n",
       "      <td>0.0</td>\n",
       "      <td>185.0</td>\n",
       "      <td>85.0</td>\n",
       "      <td>183.0</td>\n",
       "      <td>136.0</td>\n",
       "      <td>102.0</td>\n",
       "      <td>185.0</td>\n",
       "      <td>22.0</td>\n",
       "      <td>9.0</td>\n",
       "      <td>919</td>\n",
       "      <td>2014</td>\n",
       "    </tr>\n",
       "    <tr>\n",
       "      <th>4</th>\n",
       "      <td>LV Cēsis</td>\n",
       "      <td>206.0</td>\n",
       "      <td>233.0</td>\n",
       "      <td>62.0</td>\n",
       "      <td>229.0</td>\n",
       "      <td>265.0</td>\n",
       "      <td>221.0</td>\n",
       "      <td>144.0</td>\n",
       "      <td>303.0</td>\n",
       "      <td>172.0</td>\n",
       "      <td>95.0</td>\n",
       "      <td>332.0</td>\n",
       "      <td>159.0</td>\n",
       "      <td>2421</td>\n",
       "      <td>2014</td>\n",
       "    </tr>\n",
       "  </tbody>\n",
       "</table>\n",
       "</div>"
      ],
      "text/plain": [
       "       Valsts  janvāris  februāris  marts  aprīlis   maijs  jūnijs  jūlijs  \\\n",
       "0  LV Vidzeme     112.0       82.0  493.0    388.0  1012.0   725.0  1062.0   \n",
       "1  LV Latgale       0.0        6.0   27.0     49.0   275.0    79.0    97.0   \n",
       "2  LV Zemgale      45.0        4.0   10.0     43.0   257.0   155.0   207.0   \n",
       "3  LV Kurzeme       6.0        0.0    6.0      0.0   185.0    85.0   183.0   \n",
       "4    LV Cēsis     206.0      233.0   62.0    229.0   265.0   221.0   144.0   \n",
       "\n",
       "   augusts  septembris  oktobris  novembris  decembris  KOPĀ  gads  \n",
       "0   1214.0      1275.0    1192.0      393.0      118.0  8066  2014  \n",
       "1    230.0       244.0     385.0       21.0        3.0  1416  2014  \n",
       "2    166.0       148.0     305.0       43.0        6.0  1389  2014  \n",
       "3    136.0       102.0     185.0       22.0        9.0   919  2014  \n",
       "4    303.0       172.0      95.0      332.0      159.0  2421  2014  "
      ]
     },
     "execution_count": 21,
     "metadata": {},
     "output_type": "execute_result"
    }
   ],
   "source": [
    "import pandas as pd\n",
    "\n",
    "\n",
    "df=pd.read_csv(\"..\\kopa_cesu_pils_valstis_pa_gadiem_menesiem.csv\", sep=\";\")\n",
    "df.head()\n",
    "\n"
   ]
  },
  {
   "cell_type": "code",
   "execution_count": 20,
   "metadata": {},
   "outputs": [
    {
     "data": {
      "text/plain": [
       "[112.0, 0.0, 45.0, 6.0, 206.0]"
      ]
     },
     "execution_count": 20,
     "metadata": {},
     "output_type": "execute_result"
    }
   ],
   "source": [
    "janv = list(df[\"janvāris\"]) # for large not recommended\n",
    "janv[:5]"
   ]
  },
  {
   "cell_type": "code",
   "execution_count": 30,
   "metadata": {
    "scrolled": false
   },
   "outputs": [
    {
     "data": {
      "text/plain": [
       "<matplotlib.axes._subplots.AxesSubplot at 0x20783965ac0>"
      ]
     },
     "execution_count": 30,
     "metadata": {},
     "output_type": "execute_result"
    },
    {
     "data": {
      "image/png": "[encoded data removed]",
      "text/plain": [
       "<Figure size 432x288 with 1 Axes>"
      ]
     },
     "metadata": {
      "needs_background": "light"
     },
     "output_type": "display_data"
    }
   ],
   "source": [
    "\n",
    "df.plot(x=\"Valsts\", y=\"janvāris\")"
   ]
  },
  {
   "cell_type": "code",
   "execution_count": null,
   "metadata": {},
   "outputs": [],
   "source": []
  }
 ],
 "metadata": {
  "kernelspec": {
   "display_name": "Python 3",
   "language": "python",
   "name": "python3"
  },
  "language_info": {
   "codemirror_mode": {
    "name": "ipython",
    "version": 3
   },
   "file_extension": ".py",
   "mimetype": "text/x-python",
   "name": "python",
   "nbconvert_exporter": "python",
   "pygments_lexer": "ipython3",
   "version": "3.8.3"
  }
 },
 "nbformat": 4,
 "nbformat_minor": 4
}

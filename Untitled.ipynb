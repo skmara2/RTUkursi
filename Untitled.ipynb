{
 "cells": [
  {
   "cell_type": "code",
   "execution_count": 40,
   "metadata": {
    "scrolled": true
   },
   "outputs": [
    {
     "name": "stdout",
     "output_type": "stream",
     "text": [
      "[12, 11, 9, 25, 19, 21, 21, 20, 28, 23, 20, 20, 18, 16, 19, 24, 19, 21, 14, 18, 25, 18, 19, 16, 19, 25, 27, 26, 17, 29, 23, 19, 22, 25, 24, 23, 22, 16, 21, 28, 23, 17, 20, 20, 26, 19, 18, 20, 23, 23, 30, 33, 18, 16, 19, 22, 15, 18, 18, 18, 29, 23, 14, 25, 15, 24, 18, 22, 17, 28, 21, 18, 26, 24, 21, 24, 20, 17, 24, 14, 19, 28, 17, 24, 22, 17, 24, 23, 19, 23, 19, 20, 21, 21, 21, 17, 26, 15, 26, 18]\n",
      "\n",
      "Counter({19: 11, 18: 11, 21: 9, 23: 9, 20: 8, 24: 8, 17: 7, 25: 5, 26: 5, 22: 5, 28: 4, 16: 4, 14: 3, 15: 3, 29: 2, 12: 1, 11: 1, 9: 1, 27: 1, 30: 1, 33: 1})\n",
      "[12, 11, 9, 25, 19, 21, 20, 28, 23, 18, 16, 24, 14, 27, 26, 17, 29, 22, 30, 33, 15]\n",
      "dict_values([1, 1, 1, 5, 11, 9, 8, 4, 9, 11, 4, 8, 3, 1, 5, 7, 2, 5, 1, 1, 3])\n"
     ]
    },
    {
     "data": {
      "image/png": "[encoded data removed]",
      "text/plain": [
       "<Figure size 432x288 with 1 Axes>"
      ]
     },
     "metadata": {
      "needs_background": "light"
     },
     "output_type": "display_data"
    }
   ],
   "source": [
    "import matplotlib.pyplot as plt\n",
    "import random\n",
    "from collections import Counter\n",
    "\n",
    "rez=[]\n",
    "for j in range (100):\n",
    "    sum=0\n",
    "    for i in range (6):\n",
    "        x=(random.randint(1,6))\n",
    "        sum+=x\n",
    "    #print(sum)\n",
    "    rez.append(sum)\n",
    "print(rez, end=\"\")\n",
    "print(\"\\n\")\n",
    "\n",
    "from collections import Counter\n",
    "biez=(Counter(rez))\n",
    "print(biez)\n",
    "\n",
    "ke=[]\n",
    "for key in biez.keys():\n",
    "      ke.append(key)\n",
    "print(ke)\n",
    "\n",
    "va=(biez.values())\n",
    "print(va)\n",
    "\n",
    "fig = plt.figure()\n",
    "x = ke\n",
    "y = va\n",
    "plt.bar(x, y)\n",
    "plt.show()\n",
    "    \n",
    "    "
   ]
  },
  {
   "cell_type": "code",
   "execution_count": null,
   "metadata": {},
   "outputs": [],
   "source": []
  },
  {
   "cell_type": "code",
   "execution_count": null,
   "metadata": {},
   "outputs": [],
   "source": []
  },
  {
   "cell_type": "code",
   "execution_count": null,
   "metadata": {},
   "outputs": [],
   "source": []
  },
  {
   "cell_type": "code",
   "execution_count": null,
   "metadata": {},
   "outputs": [],
   "source": []
  }
 ],
 "metadata": {
  "kernelspec": {
   "display_name": "Python 3",
   "language": "python",
   "name": "python3"
  },
  "language_info": {
   "codemirror_mode": {
    "name": "ipython",
    "version": 3
   },
   "file_extension": ".py",
   "mimetype": "text/x-python",
   "name": "python",
   "nbconvert_exporter": "python",
   "pygments_lexer": "ipython3",
   "version": "3.8.3"
  }
 },
 "nbformat": 4,
 "nbformat_minor": 4
}
